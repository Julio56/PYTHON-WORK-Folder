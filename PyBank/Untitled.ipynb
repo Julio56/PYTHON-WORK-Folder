{
 "cells": [
  {
   "cell_type": "code",
   "execution_count": 1,
   "metadata": {},
   "outputs": [
    {
     "ename": "FileNotFoundError",
     "evalue": "[Errno 2] No such file or directory: '../RUTJC201904DATA3/hw/week3/Instructions/PyBank/Resources/budget_data.csv'",
     "output_type": "error",
     "traceback": [
      "\u001b[0;31m---------------------------------------------------------------------------\u001b[0m",
      "\u001b[0;31mFileNotFoundError\u001b[0m                         Traceback (most recent call last)",
      "\u001b[0;32m<ipython-input-1-7483a20c7980>\u001b[0m in \u001b[0;36m<module>\u001b[0;34m\u001b[0m\n\u001b[1;32m     13\u001b[0m \u001b[0;34m\u001b[0m\u001b[0m\n\u001b[1;32m     14\u001b[0m \u001b[0mcsvpath\u001b[0m \u001b[0;34m=\u001b[0m \u001b[0mos\u001b[0m\u001b[0;34m.\u001b[0m\u001b[0mpath\u001b[0m\u001b[0;34m.\u001b[0m\u001b[0mjoin\u001b[0m\u001b[0;34m(\u001b[0m\u001b[0;34m'..'\u001b[0m \u001b[0;34m,\u001b[0m\u001b[0;34m'RUTJC201904DATA3/hw/week3/Instructions/PyBank/Resources/budget_data.csv'\u001b[0m\u001b[0;34m)\u001b[0m\u001b[0;34m\u001b[0m\u001b[0;34m\u001b[0m\u001b[0m\n\u001b[0;32m---> 15\u001b[0;31m \u001b[0;32mwith\u001b[0m \u001b[0mopen\u001b[0m\u001b[0;34m(\u001b[0m\u001b[0mcsvpath\u001b[0m\u001b[0;34m,\u001b[0m \u001b[0mnewline\u001b[0m\u001b[0;34m=\u001b[0m\u001b[0;34m''\u001b[0m\u001b[0;34m)\u001b[0m \u001b[0;32mas\u001b[0m \u001b[0mcsv_file\u001b[0m\u001b[0;34m:\u001b[0m\u001b[0;34m\u001b[0m\u001b[0;34m\u001b[0m\u001b[0m\n\u001b[0m\u001b[1;32m     16\u001b[0m    \u001b[0mcsv_reader\u001b[0m \u001b[0;34m=\u001b[0m \u001b[0mcsv\u001b[0m\u001b[0;34m.\u001b[0m\u001b[0mreader\u001b[0m\u001b[0;34m(\u001b[0m\u001b[0mcsv_file\u001b[0m\u001b[0;34m,\u001b[0m \u001b[0mdelimiter\u001b[0m\u001b[0;34m=\u001b[0m\u001b[0;34m','\u001b[0m\u001b[0;34m)\u001b[0m\u001b[0;34m\u001b[0m\u001b[0;34m\u001b[0m\u001b[0m\n\u001b[1;32m     17\u001b[0m    \u001b[0mline_count\u001b[0m \u001b[0;34m=\u001b[0m \u001b[0;36m0\u001b[0m\u001b[0;34m\u001b[0m\u001b[0;34m\u001b[0m\u001b[0m\n",
      "\u001b[0;31mFileNotFoundError\u001b[0m: [Errno 2] No such file or directory: '../RUTJC201904DATA3/hw/week3/Instructions/PyBank/Resources/budget_data.csv'"
     ]
    }
   ],
   "source": [
    " \n",
    "import os\n",
    "import csv\n",
    " \n",
    "profits = 0\n",
    "Greatest_Increase = 0 # 1170593 is the highest value\n",
    "Biggest_Decrease = 0  #  -1196225 is the lowest value\n",
    "Total_Months = []\n",
    "Total_Profits = []\n",
    "Average_Change = []\n",
    "dates = []\n",
    "value = []\n",
    " \n",
    "csvpath = os.path.join('..' ,'RUTJC201904DATA3/hw/week3/Instructions/PyBank/Resources/budget_data.csv')\n",
    "with open(csvpath, newline='') as csv_file:\n",
    "    csv_reader = csv.reader(csv_file, delimiter=',')\n",
    "    line_count = 0\n",
    " \n",
    "  \n",
    "    highest_value = 0\n",
    "    next(csv_reader)  \n",
    "    for row in csv_reader:\n",
    "      \n",
    "        dates.append(row[0])\n",
    "        value.append(int(row[1]))\n",
    "        profits = int(row[1]) + profits\n",
    "        \n",
    "       \n",
    "Total_Months = len(dates)\n",
    "Total_Profits = str(profits)\n",
    " \n",
    "\n",
    " \n",
    "for i in range(len(value)-1):\n",
    "    change.append (value[i+1]-value[i])\n",
    "   \n",
    "   \n",
    "Min = min(change)\n",
    "Max = max(change)\n",
    "Date_MIN = dates[change.index(Min)+1]\n",
    "Date_MAX = dates[change.index(Max)+1]\n",
    "Average_Change = sum(change)/len(change)\n",
    " \n",
    " \n",
    " \n",
    " \n",
    "print(\"Financial Analysis\")\n",
    "print(\"------------------\")\n",
    "print(\"Total Months: \" + str(Total_Months))\n",
    "print(\"Total: \" + str(Total_Profits))\n",
    "print (\"Average Change: \" + '$'+str(round(Average_Change,2)))\n",
    "print(\"Greatest Increase in Profits: \" + Date_MAX + \" $\"+str(Max))\n",
    "print(\"Greatest Decrease in Profits: \" + Date_MIN + ' ($'+str(abs(Min))+')' )\n",
    " \n",
    "\n",
    "f = open(\"main.txt\", \"w\")\n",
    "\t\n",
    "f.write(\n",
    "\t\"Financial Analysis\\n\"   +\n",
    "\t\"Total Months: \" + str(Total_Months) + '\\n' +\n",
    "\t\"Total: \" + str(Total_Profits) + '\\n' +\n",
    "\t\"Average Change: $\" +str(round(Average_Change,2)) +'\\n'+\n",
    "\t\"Greatest Increase in Profits: $\" +str(max(value)) +'\\n' +\n",
    "\t\"Greatest Decrease in Profits: \" + '($'+str(abs(Min))+')' \n",
    "\t)\n",
    "f.close()         \n"
   ]
  },
  {
   "cell_type": "code",
   "execution_count": null,
   "metadata": {},
   "outputs": [],
   "source": []
  }
 ],
 "metadata": {
  "kernelspec": {
   "display_name": "Python 3",
   "language": "python",
   "name": "python3"
  },
  "language_info": {
   "codemirror_mode": {
    "name": "ipython",
    "version": 3
   },
   "file_extension": ".py",
   "mimetype": "text/x-python",
   "name": "python",
   "nbconvert_exporter": "python",
   "pygments_lexer": "ipython3",
   "version": "3.7.3"
  }
 },
 "nbformat": 4,
 "nbformat_minor": 2
}
